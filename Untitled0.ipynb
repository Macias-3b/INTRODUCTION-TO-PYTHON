{
  "nbformat": 4,
  "nbformat_minor": 0,
  "metadata": {
    "colab": {
      "name": "Untitled0.ipynb",
      "provenance": [],
      "authorship_tag": "ABX9TyNSOGSg/64HHR6V0GuURQPg",
      "include_colab_link": true
    },
    "kernelspec": {
      "name": "python3",
      "display_name": "Python 3"
    },
    "language_info": {
      "name": "python"
    }
  },
  "cells": [
    {
      "cell_type": "markdown",
      "metadata": {
        "id": "view-in-github",
        "colab_type": "text"
      },
      "source": [
        "<a href=\"https://colab.research.google.com/github/Macias-3b/INTRODUCTION-TO-PYTHON/blob/main/Untitled0.ipynb\" target=\"_parent\"><img src=\"https://colab.research.google.com/assets/colab-badge.svg\" alt=\"Open In Colab\"/></a>"
      ]
    },
    {
      "cell_type": "code",
      "metadata": {
        "id": "BDbgnI7H4JDy"
      },
      "source": [
        "INTRODUCTION TO PYTHON\n",
        "The history of the Python programming language dates back to the late 80s and early 90s1, its implementation began in December 1989, when Guido Van Rossum working at the (CWI) (an official Dutch research center at Christmas which, among other things, currently houses the central office of the W3C) decided to start the project as a hobby, continuing the ABC programming language of which he had been part of the development team at the CWI, 3 said language focused on being easy to use. use and learn while maintaining power in its performance but the hardware available at the time of its creation made it difficult to use and the project did not transcend as expected. The name \"Python\" is given by Van Rossum's fondness for the Monty Python group.\n",
        "The Python programming language was originally developed for the Amoeba operating system.\n",
        "The language was finally released in 1991. When it was released, it used much less code to express the concepts, when compared to Java, C ++, and C. Its design philosophy was pretty good too. Its main goal is to provide advanced productivity and code readability for developers. When it was released, it had more than enough capacity to provide classes with inheritance, exception handling of various core data types, and functions.\n",
        " \n",
        "Version 1.0, which was released in January 1994, version 2.0 was released in October 2000, and version 3.0 was released in December 2008.\n",
        "Python 3.7.3 is the latest version.\n",
        "The two most used versions are Python 2.x and 3.x. There is a lot of competition between the two and they both seem to have a lot of different fans.\n",
        "This language is used for various purposes, such as software development, scripting, generation, and testing. Due to its elegance and simplicity, leading technology organizations such as Dropbox, Google, Quora, Mozilla, Hewlett-Packard, Qualcomm, IBM, and Cisco have implemented Python.\n",
        "Python has come a long way to become the most popular coding language in the world. Python just turned 30, but it still has that unknown charm and X factor that can be clearly seen from the fact that Google users have constantly searched for Python.\n",
        "The print () function is used to transfer data to the screen.\n",
        "Interactive interface (black window)\n",
        "* After entering the Python interpreter, there will automatically be >>>\n",
        "* Declaration: >>> print ('123)'\n",
        "Text interface\n",
        "* It is not necessary >>> Write the declaration directly\n",
        "* Declaration: print ('123)\n",
        "The print declaration can also be followed by multiple strings, separated by a comma \",\", which can be connected in an output string:\n",
        "* eg: 'print (' The quick brown fox ',' jumps over ',' the lazy dog ')\n",
        "* Result: The quick brown fox jumps over the lazy dog\n",
        "* print will print each string in turn, and a space will be generated when a comma \",\" is encountered. So the output string is written like this\n",
        "Note that the following are equivalent in the python2.X version:\n",
        "print (\"123\")\n",
        "print ('123')\n",
        "print '123' Explanation: print + space + \"123\"\n",
        "print \"123\" Explanation: print + space + \"123\"\n",
        "\n",
        "Note: After python3.X version, print becomes a function, syntaxprint '123' form has been removed (if you type in this way, a run-time error will be reported). In future learning, you will use print ('123'). Write a printed statement in the form of.\n",
        "The if statement is used to conditionally execute a statement or a block of statements. Conditions can be true or false, do one thing when the condition is true and another when the condition is false.\n",
        "The expression after the \"if\" is called the condition of the if statement. If the expression evaluates to true, the statement or statements that follow the 'if' clause are executed, and if the expression evaluates to a false value, the statement that follows the 'else' clause executes.\n",
        " \n",
        "A loop or cycle is a sequence of code instructions that is executed repeatedly, until the condition assigned to that loop is no longer met. The three most used loops in programming are the while loop, the for loop, and the do-while loop.\n",
        "The while statement tests a condition and executes the statement or statement block that appears after the while. Checking the condition and executing those statements will repeat until the condition is false.\n",
        "The while loop tests the condition before executing the code that follows while. The do ... while loop first executes the code and then tests the condition.\n",
        "The for loop is used frequently in C #.\n"
      ],
      "execution_count": null,
      "outputs": []
    }
  ]
}